{
  "nbformat": 4,
  "nbformat_minor": 0,
  "metadata": {
    "colab": {
      "provenance": []
    },
    "kernelspec": {
      "name": "python3",
      "display_name": "Python 3"
    },
    "language_info": {
      "name": "python"
    }
  },
  "cells": [
    {
      "cell_type": "code",
      "execution_count": null,
      "metadata": {
        "colab": {
          "base_uri": "https://localhost:8080/"
        },
        "id": "0OIz8WlOXw-M",
        "outputId": "7cf8083e-bdb3-429c-abb2-44e2223866b3"
      },
      "outputs": [
        {
          "output_type": "stream",
          "name": "stdout",
          "text": [
            "heads =  16 tails =  24\n"
          ]
        }
      ],
      "source": [
        "import math\n",
        "import numpy as np\n",
        "import random\n",
        "\n",
        "vector = 100\n",
        "r = np.zeros(vector)\n",
        "\n",
        "heads = 0\n",
        "tails = 0\n",
        "\n",
        "random.seed(8952)\n",
        "\n",
        "for j in range(vector):\n",
        "    r[j] = random.random()\n",
        "    if r[j] < 0.5:\n",
        "        heads = heads + 1\n",
        "    else:\n",
        "        tails = tails + 1\n",
        "\n",
        "print(\"heads = \", heads, \"tails = \", tails)"
      ]
    },
    {
      "cell_type": "code",
      "source": [],
      "metadata": {
        "id": "IfNGDSttYL7A"
      },
      "execution_count": null,
      "outputs": []
    }
  ]
}