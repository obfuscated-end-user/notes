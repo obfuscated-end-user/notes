{
  "nbformat": 4,
  "nbformat_minor": 0,
  "metadata": {
    "colab": {
      "provenance": []
    },
    "kernelspec": {
      "name": "python3",
      "display_name": "Python 3"
    },
    "language_info": {
      "name": "python"
    }
  },
  "cells": [
    {
      "cell_type": "code",
      "source": [
        "!pip install transformers torch nltk flask\n",
        "\n",
        "import random\n",
        "from transformers import pipeline"
      ],
      "metadata": {
        "colab": {
          "base_uri": "https://localhost:8080/"
        },
        "id": "iUVgJvTAmHiX",
        "outputId": "1b359d26-c28a-46fc-8d14-bcd7f558b24e"
      },
      "execution_count": 2,
      "outputs": [
        {
          "output_type": "stream",
          "name": "stdout",
          "text": [
            "Requirement already satisfied: transformers in /usr/local/lib/python3.10/dist-packages (4.44.2)\n",
            "Requirement already satisfied: torch in /usr/local/lib/python3.10/dist-packages (2.4.1+cu121)\n",
            "Requirement already satisfied: nltk in /usr/local/lib/python3.10/dist-packages (3.8.1)\n",
            "Requirement already satisfied: flask in /usr/local/lib/python3.10/dist-packages (2.2.5)\n",
            "Requirement already satisfied: filelock in /usr/local/lib/python3.10/dist-packages (from transformers) (3.16.1)\n",
            "Requirement already satisfied: huggingface-hub<1.0,>=0.23.2 in /usr/local/lib/python3.10/dist-packages (from transformers) (0.24.7)\n",
            "Requirement already satisfied: numpy>=1.17 in /usr/local/lib/python3.10/dist-packages (from transformers) (1.26.4)\n",
            "Requirement already satisfied: packaging>=20.0 in /usr/local/lib/python3.10/dist-packages (from transformers) (24.1)\n",
            "Requirement already satisfied: pyyaml>=5.1 in /usr/local/lib/python3.10/dist-packages (from transformers) (6.0.2)\n",
            "Requirement already satisfied: regex!=2019.12.17 in /usr/local/lib/python3.10/dist-packages (from transformers) (2024.9.11)\n",
            "Requirement already satisfied: requests in /usr/local/lib/python3.10/dist-packages (from transformers) (2.32.3)\n",
            "Requirement already satisfied: safetensors>=0.4.1 in /usr/local/lib/python3.10/dist-packages (from transformers) (0.4.5)\n",
            "Requirement already satisfied: tokenizers<0.20,>=0.19 in /usr/local/lib/python3.10/dist-packages (from transformers) (0.19.1)\n",
            "Requirement already satisfied: tqdm>=4.27 in /usr/local/lib/python3.10/dist-packages (from transformers) (4.66.5)\n",
            "Requirement already satisfied: typing-extensions>=4.8.0 in /usr/local/lib/python3.10/dist-packages (from torch) (4.12.2)\n",
            "Requirement already satisfied: sympy in /usr/local/lib/python3.10/dist-packages (from torch) (1.13.3)\n",
            "Requirement already satisfied: networkx in /usr/local/lib/python3.10/dist-packages (from torch) (3.3)\n",
            "Requirement already satisfied: jinja2 in /usr/local/lib/python3.10/dist-packages (from torch) (3.1.4)\n",
            "Requirement already satisfied: fsspec in /usr/local/lib/python3.10/dist-packages (from torch) (2024.6.1)\n",
            "Requirement already satisfied: click in /usr/local/lib/python3.10/dist-packages (from nltk) (8.1.7)\n",
            "Requirement already satisfied: joblib in /usr/local/lib/python3.10/dist-packages (from nltk) (1.4.2)\n",
            "Requirement already satisfied: Werkzeug>=2.2.2 in /usr/local/lib/python3.10/dist-packages (from flask) (3.0.4)\n",
            "Requirement already satisfied: itsdangerous>=2.0 in /usr/local/lib/python3.10/dist-packages (from flask) (2.2.0)\n",
            "Requirement already satisfied: MarkupSafe>=2.0 in /usr/local/lib/python3.10/dist-packages (from jinja2->torch) (2.1.5)\n",
            "Requirement already satisfied: charset-normalizer<4,>=2 in /usr/local/lib/python3.10/dist-packages (from requests->transformers) (3.3.2)\n",
            "Requirement already satisfied: idna<4,>=2.5 in /usr/local/lib/python3.10/dist-packages (from requests->transformers) (3.10)\n",
            "Requirement already satisfied: urllib3<3,>=1.21.1 in /usr/local/lib/python3.10/dist-packages (from requests->transformers) (2.2.3)\n",
            "Requirement already satisfied: certifi>=2017.4.17 in /usr/local/lib/python3.10/dist-packages (from requests->transformers) (2024.8.30)\n",
            "Requirement already satisfied: mpmath<1.4,>=1.1.0 in /usr/local/lib/python3.10/dist-packages (from sympy->torch) (1.3.0)\n"
          ]
        }
      ]
    },
    {
      "cell_type": "code",
      "execution_count": 4,
      "metadata": {
        "colab": {
          "base_uri": "https://localhost:8080/"
        },
        "id": "AyXXh05UdMVC",
        "outputId": "51a9b37e-4954-441a-e566-ab2302447d44"
      },
      "outputs": [
        {
          "output_type": "stream",
          "name": "stderr",
          "text": [
            "No model was supplied, defaulted to dbmdz/bert-large-cased-finetuned-conll03-english and revision f2482bf (https://huggingface.co/dbmdz/bert-large-cased-finetuned-conll03-english).\n",
            "Using a pipeline without specifying a model name and revision in production is not recommended.\n",
            "Some weights of the model checkpoint at dbmdz/bert-large-cased-finetuned-conll03-english were not used when initializing BertForTokenClassification: ['bert.pooler.dense.bias', 'bert.pooler.dense.weight']\n",
            "- This IS expected if you are initializing BertForTokenClassification from the checkpoint of a model trained on another task or with another architecture (e.g. initializing a BertForSequenceClassification model from a BertForPreTraining model).\n",
            "- This IS NOT expected if you are initializing BertForTokenClassification from the checkpoint of a model that you expect to be exactly identical (initializing a BertForSequenceClassification model from a BertForSequenceClassification model).\n"
          ]
        },
        {
          "output_type": "stream",
          "name": "stdout",
          "text": [
            "Chatbot: Hello! I am here to help you. (Type 'exit' to end the conversation.)\n",
            "You: k\n",
            "Chatbot: I'm sorry, I didn't understand that.\n",
            "Intent: unknown\n",
            "Entities: []\n",
            "Please rate my response (1-5): 0\n",
            "You: exit\n",
            "\n",
            "Conversation Summary:\n",
            "You: k | Chatbot: I'm sorry, I didn't understand that. | Feedback: 0\n"
          ]
        }
      ],
      "source": [
        "intent_data = {\n",
        "    \"greetings\": [\"hello\", \"hi\", \"hey\", \"good morning\", \"good evening\"],\n",
        "    \"goodbye\": [\"bye\", \"goodbye\", \"see you later\"],\n",
        "    \"weather\": [\"what's the weather like\", \"how's the weather\", \"tell me the weather\"],\n",
        "    \"flight_booking\": [\"book a flight to\", \"I want to fly to\", \"reserve a ticket to\"],\n",
        "}\n",
        "\n",
        "responses = {\n",
        "    \"greetings\": [\"Hello! How can I assist you today?\", \"Hi there! What do you need help with?\", \"Hey! What can I do for you?\"],\n",
        "    \"goodbye\": [\"Goodbye! Have a great day!\", \"See you later!\", \"Take care!\"],\n",
        "    \"weather\": [\"It's sunny!\", \"Expect some rain today.\", \"It's quite chilly outside.\"],\n",
        "    \"flight_booking\": [\"Booking your flight now! Where are you flying to?\"],\n",
        "}\n",
        "\n",
        "ner = pipeline(\"ner\", aggregation_strategy=\"simple\")\n",
        "\n",
        "def recognize_intent(user_input):\n",
        "    for intent, patterns in intent_data.items():\n",
        "        for pattern in patterns:\n",
        "            if pattern in user_input.lower():\n",
        "                return intent\n",
        "    return \"unknown\"\n",
        "\n",
        "def format_entities(entities):\n",
        "    return [{ 'word': entity['word'], 'score': round(entity['score'], 2), 'start': entity['start'], 'end': entity['end'], 'entity': entity['entity_group']} for entity in entities]\n",
        "\n",
        "def chatbot():\n",
        "    print(\"Chatbot: Hello! I am here to help you. (Type 'exit' to end the conversation.)\")\n",
        "    conversation_feedback = []\n",
        "\n",
        "    while True:\n",
        "        user_input = input(\"You: \")\n",
        "        if user_input.lower() == 'exit':\n",
        "            break\n",
        "\n",
        "        intent = recognize_intent(user_input)\n",
        "        if intent in responses:\n",
        "            response = random.choice(responses[intent])\n",
        "        else:\n",
        "            response = \"I'm sorry, I didn't understand that.\"\n",
        "\n",
        "        entities = ner(user_input)\n",
        "        formatted_entities = format_entities(entities)\n",
        "\n",
        "        print(f\"Chatbot: {response}\")\n",
        "        print(f\"Intent: {intent}\")\n",
        "        print(f\"Entities: {formatted_entities}\")\n",
        "\n",
        "        feedback = input(\"Please rate my response (1-5): \")\n",
        "        conversation_feedback.append((user_input, response, feedback))\n",
        "\n",
        "    print(\"\\nConversation Summary:\")\n",
        "    for user_input, response, feedback in conversation_feedback:\n",
        "        print(f\"You: {user_input} | Chatbot: {response} | Feedback: {feedback}\")\n",
        "\n",
        "chatbot()"
      ]
    },
    {
      "cell_type": "code",
      "source": [],
      "metadata": {
        "id": "Il2wSEmpdO28"
      },
      "execution_count": null,
      "outputs": []
    }
  ]
}