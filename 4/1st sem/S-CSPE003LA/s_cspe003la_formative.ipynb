{
  "nbformat": 4,
  "nbformat_minor": 0,
  "metadata": {
    "colab": {
      "provenance": []
    },
    "kernelspec": {
      "name": "python3",
      "display_name": "Python 3"
    },
    "language_info": {
      "name": "python"
    }
  },
  "cells": [
    {
      "cell_type": "code",
      "execution_count": null,
      "metadata": {
        "colab": {
          "base_uri": "https://localhost:8080/"
        },
        "id": "YjGZKSLNCt9F",
        "outputId": "b9ff82e7-f8c9-42b4-f594-44f60a864872"
      },
      "outputs": [
        {
          "output_type": "stream",
          "name": "stdout",
          "text": [
            "My name is aaaaa\n",
            "REDACTEDI'm 22 years old\n",
            "\n",
            "I was born on yy/mm/dd\n"
          ]
        }
      ],
      "source": [
        "# create multiple process that will display your basic information.\n",
        "# (ex. name, course/year/section, age, birthdate, etc.)\n",
        "from multiprocessing import Process\n",
        "\n",
        "p1 = Process(target=lambda : print(\"My name is aaaaa\"))\n",
        "p2 = Process(target=lambda : print(\"REDACTED\"))\n",
        "p3 = Process(target=lambda : print(\"I'm 22 years old\"))\n",
        "p4 = Process(target=lambda : print(\"I was born on yy/mm/dd\"))\n",
        "\n",
        "p1.start()\n",
        "p2.start()\n",
        "p3.start()\n",
        "p4.start()"
      ]
    },
    {
      "cell_type": "code",
      "source": [
        "# get the running time of a code counting 1-1B using core, 2 cores, 4 cores, up\n",
        "# to your maximum no. of cores.\n",
        "\n",
        "\n",
        "\n"
      ],
      "metadata": {
        "id": "7-pRBaoaDk4K"
      },
      "execution_count": null,
      "outputs": []
    },
    {
      "cell_type": "code",
      "source": [],
      "metadata": {
        "id": "7-UOkh-ZFC56"
      },
      "execution_count": null,
      "outputs": []
    }
  ]
}