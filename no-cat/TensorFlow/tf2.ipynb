{
 "cells": [
  {
   "cell_type": "code",
   "execution_count": 1,
   "id": "d351d7c1",
   "metadata": {},
   "outputs": [],
   "source": [
    "# https://github.com/aladdinpersson/Machine-Learning-Collection/blob/master/ML/TensorFlow/Basics/tutorial3-neuralnetwork.py\n",
    "\n",
    "import os\n",
    "import tensorflow as tf\n",
    "from tensorflow import keras\n",
    "from tensorflow.keras import layers\n",
    "from tensorflow.keras.datasets import mnist\n",
    "\n",
    "os.environ[\"TF_CPP_MIN_LOG_LEVEL\"] = \"2\""
   ]
  },
  {
   "cell_type": "code",
   "execution_count": 2,
   "id": "98c66040",
   "metadata": {},
   "outputs": [],
   "source": [
    "# the train variables are what you will pass for training the model.\n",
    "# the test variables are for evaluating the accuracy of the model.\n",
    "# the shape of these variables is (60000, 28, 28).\n",
    "(x_train, y_train), (x_test, y_test) = mnist.load_data()\n",
    "\n",
    "# \"to flatten\" generally mean to reduce one dimension from a numpy array.\n",
    "# the variables are reshaped (flattened) because we're passing it on a neural network.\n",
    "# -1 means keep the first dimension the same as the previous one (60000)\n",
    "# type is converted from float64 to float32 for faster training.\n",
    "# to normalize the data, the arrays are divided by 255, because the values that are inside these arrays range from 0-255.\n",
    "x_train = x_train.reshape(-1, 28 * 28).astype(\"float32\") / 255.0\n",
    "x_test = x_test.reshape(-1, 28 * 28).astype(\"float32\") / 255.0"
   ]
  },
  {
   "cell_type": "code",
   "execution_count": 3,
   "id": "eb885ab3",
   "metadata": {},
   "outputs": [
    {
     "name": "stdout",
     "output_type": "stream",
     "text": [
      "Model: \"sequential\"\n",
      "_________________________________________________________________\n",
      " Layer (type)                Output Shape              Param #   \n",
      "=================================================================\n",
      " dense (Dense)               (None, 512)               401920    \n",
      "                                                                 \n",
      " dense_1 (Dense)             (None, 256)               131328    \n",
      "                                                                 \n",
      " dense_2 (Dense)             (None, 10)                2570      \n",
      "                                                                 \n",
      "=================================================================\n",
      "Total params: 535,818\n",
      "Trainable params: 535,818\n",
      "Non-trainable params: 0\n",
      "_________________________________________________________________\n"
     ]
    }
   ],
   "source": [
    "# sequential api is very convenient, but not very flexible.\n",
    "# it only allows you to have 1 input and output.\n",
    "model = keras.Sequential(\n",
    "    [\n",
    "        # 28 * 28 because of the image size.\n",
    "        # this is in here just so you can print model.summary().\n",
    "        keras.Input(shape=(28 * 28)),\n",
    "        # a dense or a fully connected layer is a linear operation on a layer's input vector.\n",
    "        # relu is that function you know, returns 1 if >1, otherwise 0.\n",
    "        # 512 because i don't know\n",
    "        layers.Dense(512, activation=\"relu\"),\n",
    "        layers.Dense(256, activation=\"relu\"),\n",
    "        # 10 because there are 10 digits in the dataset to be determined.\n",
    "        layers.Dense(10)\n",
    "    ]\n",
    ")\n",
    "model.summary()"
   ]
  },
  {
   "cell_type": "code",
   "execution_count": 4,
   "id": "10593ec8",
   "metadata": {},
   "outputs": [
    {
     "name": "stdout",
     "output_type": "stream",
     "text": [
      "Model: \"model\"\n",
      "_________________________________________________________________\n",
      " Layer (type)                Output Shape              Param #   \n",
      "=================================================================\n",
      " input_2 (InputLayer)        [(None, 784)]             0         \n",
      "                                                                 \n",
      " first_layer (Dense)         (None, 512)               401920    \n",
      "                                                                 \n",
      " second_layer (Dense)        (None, 256)               131328    \n",
      "                                                                 \n",
      " dense_3 (Dense)             (None, 10)                2570      \n",
      "                                                                 \n",
      "=================================================================\n",
      "Total params: 535,818\n",
      "Trainable params: 535,818\n",
      "Non-trainable params: 0\n",
      "_________________________________________________________________\n"
     ]
    }
   ],
   "source": [
    "# DO NOT RUN\n",
    "# functional api is a bit more flexible than its sequential counterpart\n",
    "inputs = keras.Input(shape=(784))\n",
    "y = layers.Dense(512, activation=\"relu\", name=\"first_layer\")(inputs)\n",
    "y = layers.Dense(256, activation=\"relu\", name=\"second_layer\")(y)\n",
    "# becasue we use softmax here, from_logits should be false\n",
    "outputs = layers.Dense(10, activation=\"softmax\")(y)\n",
    "model1 = keras.Model(inputs=inputs, outputs=outputs)\n",
    "model1.summary()"
   ]
  },
  {
   "cell_type": "code",
   "execution_count": 5,
   "id": "f3f8623e",
   "metadata": {},
   "outputs": [],
   "source": [
    "model.compile(\n",
    "    # a loss function calculates the difference between the predicted and actual values in a given dataset\n",
    "    # from_logits is set to true because we did not use a softmax function on the last dense layer\n",
    "    # sparse categorical cross entropy is a loss function that is used when the target variable is a\n",
    "    # sparse categorical vairable, in other words, an integer.\n",
    "    loss=keras.losses.SparseCategoricalCrossentropy(from_logits=True),\n",
    "    # an optimizer is a function/algorithm that adjusts the weights and learning rates of a neural network\n",
    "    optimizer=keras.optimizers.Adam(learning_rate=0.001),\n",
    "    # metrics is what is shown in the second column when training.\n",
    "    # go to https://www.tensorflow.org/api_docs/python/tf/keras/metrics/Accuracy for more metrics.\n",
    "    metrics=[\"accuracy\"]\n",
    ")"
   ]
  },
  {
   "cell_type": "code",
   "execution_count": 6,
   "id": "6c1d4ee8",
   "metadata": {},
   "outputs": [
    {
     "name": "stdout",
     "output_type": "stream",
     "text": [
      "Epoch 1/5\n",
      "1875/1875 - 13s - loss: 0.1889 - accuracy: 0.9425 - 13s/epoch - 7ms/step\n",
      "Epoch 2/5\n",
      "1875/1875 - 12s - loss: 0.0786 - accuracy: 0.9749 - 12s/epoch - 7ms/step\n",
      "Epoch 3/5\n",
      "1875/1875 - 12s - loss: 0.0535 - accuracy: 0.9829 - 12s/epoch - 6ms/step\n",
      "Epoch 4/5\n",
      "1875/1875 - 11s - loss: 0.0429 - accuracy: 0.9863 - 11s/epoch - 6ms/step\n",
      "Epoch 5/5\n",
      "1875/1875 - 9s - loss: 0.0326 - accuracy: 0.9891 - 9s/epoch - 5ms/step\n",
      "313/313 - 1s - loss: 0.0788 - accuracy: 0.9796 - 1s/epoch - 4ms/step\n"
     ]
    },
    {
     "data": {
      "text/plain": [
       "[0.07875820994377136, 0.9796000123023987]"
      ]
     },
     "execution_count": 6,
     "metadata": {},
     "output_type": "execute_result"
    }
   ],
   "source": [
    "# batch size means fit that many for some interval, because it would probably train your model better\n",
    "# than dumping all your crap in one go.\n",
    "# epochs is how many iterations should the model train.\n",
    "# verbose shows this kind of information at the bottom. setting it to 1 would instead\n",
    "# show a progress bar.\n",
    "model.fit(x_train, y_train, batch_size=32, epochs=5, verbose=2)\n",
    "# test to see if the model you trained works on data it has never \"seen\" before\n",
    "# returns [loss, accuracy]\n",
    "model.evaluate(x_test, y_test, batch_size=32, verbose=2)"
   ]
  },
  {
   "cell_type": "code",
   "execution_count": null,
   "id": "050eefe3",
   "metadata": {},
   "outputs": [],
   "source": []
  }
 ],
 "metadata": {
  "kernelspec": {
   "display_name": "Python 3 (ipykernel)",
   "language": "python",
   "name": "python3"
  },
  "language_info": {
   "codemirror_mode": {
    "name": "ipython",
    "version": 3
   },
   "file_extension": ".py",
   "mimetype": "text/x-python",
   "name": "python",
   "nbconvert_exporter": "python",
   "pygments_lexer": "ipython3",
   "version": "3.10.12"
  }
 },
 "nbformat": 4,
 "nbformat_minor": 5
}
