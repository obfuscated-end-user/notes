{
 "cells": [
  {
   "cell_type": "code",
   "execution_count": 1,
   "id": "c282a939",
   "metadata": {},
   "outputs": [],
   "source": [
    "# https://github.com/aladdinpersson/Machine-Learning-Collection/blob/master/ML/TensorFlow/Basics/tutorial5-regularization.py\n",
    "\n",
    "import os\n",
    "import tensorflow as tf\n",
    "from tensorflow import keras\n",
    "from tensorflow.keras import layers, regularizers\n",
    "from tensorflow.keras.datasets import cifar10\n",
    "\n",
    "os.environ[\"TF_CPP_MIN_LOG_LEVEL\"] = \"2\"\n",
    "os.environ[\"TF_ENABLE_ONEDNN_OPTS\"] = \"0\"\n",
    "os.environ[\"MKL_DEBUG_CPU_TYPE\"] = \"5\"\n",
    "os.environ[\"KMP_BLOCKTIME\"] = \"1\"\n",
    "os.environ[\"KMP_AFFINITY\"] = \"granularity=fine,compact,1,0\"\n",
    "os.environ[\"OMP_NUM_THREADS\"] = \"<num_threads>\""
   ]
  },
  {
   "cell_type": "code",
   "execution_count": 2,
   "id": "b06c7612",
   "metadata": {},
   "outputs": [
    {
     "name": "stdout",
     "output_type": "stream",
     "text": [
      "No GPU device found\n"
     ]
    }
   ],
   "source": [
    "gpus = tf.config.experimental.list_physical_devices('GPU')\n",
    "if gpus:\n",
    "      for gpu in gpus:\n",
    "            tf.config.experimental.set_memory_growth(gpu, True)\n",
    "            physical_devices = tf.config.list_physical_devices(\"GPU\")\n",
    "            tf.config.experimental.set_memory_growth(physical_devices[0], True)\n",
    "else:\n",
    "      print(\"No GPU device found\")"
   ]
  },
  {
   "cell_type": "code",
   "execution_count": 3,
   "id": "f396ed34",
   "metadata": {},
   "outputs": [],
   "source": [
    "(x_train, y_train), (x_test, y_test) = cifar10.load_data()\n",
    "x_train = x_train.astype(\"float32\") / 255.0\n",
    "x_test = x_test.astype(\"float32\") / 255.0"
   ]
  },
  {
   "cell_type": "code",
   "execution_count": 4,
   "id": "807811a8",
   "metadata": {},
   "outputs": [],
   "source": [
    "# REMEMBER, NO COMMAS AFTER EACH FUNCTION CALL\n",
    "def my_model():\n",
    "    inputs = keras.Input(shape=(32, 32, 3))\n",
    "    x = layers.Conv2D(\n",
    "        32, 3,\n",
    "        # don't shrink the layer\n",
    "        padding=\"same\",\n",
    "        # regularizers reduce overfitting\n",
    "        kernel_regularizer=regularizers.l2(0.01),\n",
    "    )(inputs)\n",
    "    # batch norm also has a regularizing effect.\n",
    "    x = layers.BatchNormalization()(x)\n",
    "    x = keras.activations.relu(x)\n",
    "    x = layers.MaxPooling2D()(x)\n",
    "    x = layers.Conv2D(\n",
    "        64, 3,\n",
    "        padding=\"same\",\n",
    "        kernel_regularizer=regularizers.l2(0.01)\n",
    "    )(x)\n",
    "    x = layers.BatchNormalization()(x)\n",
    "    x = keras.activations.relu(x)\n",
    "    x = layers.MaxPooling2D()(x)\n",
    "    x = layers.Conv2D(\n",
    "        128, 3,\n",
    "        padding=\"same\",\n",
    "        kernel_regularizer=regularizers.l2(0.01),\n",
    "    )(x)\n",
    "    x = layers.BatchNormalization()(x)\n",
    "    x = keras.activations.relu(x)\n",
    "    x = layers.Flatten()(x)\n",
    "    x = layers.Dense(\n",
    "        64,\n",
    "        activation=\"relu\",\n",
    "        kernel_regularizer=regularizers.l2(0.01)\n",
    "    )(x)\n",
    "    # dropout disables certain nodes at random during training, helps prevent overfitting.\n",
    "    x = layers.Dropout(0.5)(x)\n",
    "    outputs = layers.Dense(10)(x)\n",
    "    model = keras.Model(inputs=inputs, outputs=outputs)\n",
    "    return model"
   ]
  },
  {
   "cell_type": "code",
   "execution_count": 5,
   "id": "d8dc4378",
   "metadata": {},
   "outputs": [],
   "source": [
    "model = my_model()\n",
    "model.compile(\n",
    "    loss=keras.losses.SparseCategoricalCrossentropy(from_logits=True),\n",
    "    optimizer=keras.optimizers.Adam(learning_rate=3e-4),\n",
    "    metrics=[\"accuracy\"]\n",
    ")"
   ]
  },
  {
   "cell_type": "code",
   "execution_count": 6,
   "id": "71f5d959",
   "metadata": {},
   "outputs": [
    {
     "name": "stdout",
     "output_type": "stream",
     "text": [
      "Epoch 1/10\n",
      "782/782 [==============================] - 60s 76ms/step - loss: 2.9914 - accuracy: 0.3485\n",
      "Epoch 2/10\n",
      "782/782 [==============================] - 54s 68ms/step - loss: 1.8815 - accuracy: 0.4754\n",
      "Epoch 3/10\n",
      "782/782 [==============================] - 54s 69ms/step - loss: 1.6147 - accuracy: 0.5166\n",
      "Epoch 4/10\n",
      "782/782 [==============================] - 53s 67ms/step - loss: 1.4972 - accuracy: 0.5461\n",
      "Epoch 5/10\n",
      "782/782 [==============================] - 53s 67ms/step - loss: 1.4356 - accuracy: 0.5653\n",
      "Epoch 6/10\n",
      "782/782 [==============================] - 52s 67ms/step - loss: 1.3959 - accuracy: 0.5740\n",
      "Epoch 7/10\n",
      "782/782 [==============================] - 65s 83ms/step - loss: 1.3648 - accuracy: 0.5840\n",
      "Epoch 8/10\n",
      "782/782 [==============================] - 74s 95ms/step - loss: 1.3376 - accuracy: 0.5954\n",
      "Epoch 9/10\n",
      "782/782 [==============================] - 62s 79ms/step - loss: 1.3187 - accuracy: 0.6020\n",
      "Epoch 10/10\n",
      "782/782 [==============================] - 59s 75ms/step - loss: 1.3021 - accuracy: 0.6073\n",
      "157/157 [==============================] - 4s 21ms/step - loss: 1.3691 - accuracy: 0.6102\n"
     ]
    },
    {
     "data": {
      "text/plain": [
       "[1.3691333532333374, 0.6101999878883362]"
      ]
     },
     "execution_count": 6,
     "metadata": {},
     "output_type": "execute_result"
    }
   ],
   "source": [
    "# don't do 150 epochs you blithering idiot\n",
    "# model.fit(x_train, y_train, batch_size=64, epochs=10, verbose=2)\n",
    "# model.evaluate(x_test, y_test, batch_size=64, verbose=2)\n",
    "\n",
    "model.fit(x_train, y_train, batch_size=64, epochs=10, verbose=1)\n",
    "model.evaluate(x_test, y_test, batch_size=64, verbose=1)"
   ]
  },
  {
   "cell_type": "code",
   "execution_count": null,
   "id": "d12e9358",
   "metadata": {},
   "outputs": [],
   "source": []
  }
 ],
 "metadata": {
  "kernelspec": {
   "display_name": "Python 3 (ipykernel)",
   "language": "python",
   "name": "python3"
  },
  "language_info": {
   "codemirror_mode": {
    "name": "ipython",
    "version": 3
   },
   "file_extension": ".py",
   "mimetype": "text/x-python",
   "name": "python",
   "nbconvert_exporter": "python",
   "pygments_lexer": "ipython3",
   "version": "3.10.12"
  }
 },
 "nbformat": 4,
 "nbformat_minor": 5
}
