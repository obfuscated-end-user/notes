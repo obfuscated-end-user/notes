{
 "cells": [
  {
   "cell_type": "code",
   "execution_count": 1,
   "id": "209a6eb1",
   "metadata": {},
   "outputs": [],
   "source": [
    "# https://github.com/aladdinpersson/Machine-Learning-Collection/blob/master/ML/TensorFlow/Basics/tutorial4-convnet.py\n",
    "\n",
    "import os\n",
    "import tensorflow as tf\n",
    "from tensorflow import keras\n",
    "from tensorflow.keras import layers\n",
    "from tensorflow.keras.datasets import cifar10\n",
    "\n",
    "os.environ[\"TF_CPP_MIN_LOG_LEVEL\"] = \"2\""
   ]
  },
  {
   "cell_type": "code",
   "execution_count": 2,
   "id": "bf215383",
   "metadata": {},
   "outputs": [
    {
     "name": "stdout",
     "output_type": "stream",
     "text": [
      "No GPU device found\n"
     ]
    }
   ],
   "source": [
    "gpus = tf.config.experimental.list_physical_devices('GPU')\n",
    "if gpus:\n",
    "      for gpu in gpus:\n",
    "            tf.config.experimental.set_memory_growth(gpu, True)\n",
    "            # other setting unrelated to this but who cares\n",
    "            physical_devices = tf.config.list_physical_devices(\"GPU\")\n",
    "            tf.config.experimental.set_memory_growth(physical_devices[0], True)\n",
    "else:\n",
    "      print(\"No GPU device found\")"
   ]
  },
  {
   "cell_type": "code",
   "execution_count": 3,
   "id": "c22ede18",
   "metadata": {},
   "outputs": [],
   "source": [
    "# 50000 training images\n",
    "# 10000 test images\n",
    "# 32x32 pixels rgb\n",
    "(x_train, y_train), (x_test, y_test) = cifar10.load_data()\n",
    "x_train = x_train.astype(\"float32\") / 255.0\n",
    "x_test = x_test.astype(\"float32\") / 255.0"
   ]
  },
  {
   "cell_type": "code",
   "execution_count": 4,
   "id": "c9afa600",
   "metadata": {},
   "outputs": [],
   "source": [
    "model = keras.Sequential(\n",
    "    [\n",
    "        # 32 in height and width, 3 colors for rgb\n",
    "        keras.Input(shape=(32, 32, 3)),\n",
    "        # 32 channels, 3x3 kernel size for convolving crap.\n",
    "        # padding=valid means that the output layer of this conv2d is going to be slightly smaller, in this case, it will become 30x30.\n",
    "        layers.Conv2D(32, 3, padding=\"valid\", activation=\"relu\"),\n",
    "        # pooling reduces the dimensions of a feature map. ^\n",
    "        # default pool_size is (2, 2), which will halve the above layer (30x30 / 2 = 15x15)\n",
    "        layers.MaxPooling2D(),\n",
    "        # doubled channel size because... i don't know, it gets larger and more detailed at the bottom.\n",
    "        layers.Conv2D(64, 3, activation=\"relu\"),\n",
    "        layers.MaxPooling2D(),\n",
    "        layers.Conv2D(128, 3, activation=\"relu\"),\n",
    "        # flattening is done to convert the 2d vector into a single long continuous linear vector.\n",
    "        layers.Flatten(),\n",
    "        layers.Dense(64, activation=\"relu\"),\n",
    "        # i'm not really sure why it's 10\n",
    "        layers.Dense(10),\n",
    "    ]\n",
    ")"
   ]
  },
  {
   "cell_type": "code",
   "execution_count": 5,
   "id": "8a168ff2",
   "metadata": {},
   "outputs": [],
   "source": [
    "# this is an application of the function api used in the previous notebook.\n",
    "def my_model():\n",
    "    inputs = keras.Input(shape=(32, 32, 3))\n",
    "    # no activation function here, because that seems like a prerequisite whenever we're going to use batch normalization.\n",
    "    # send something to a convolutional area first, then batch norm, then the activaiton function.\n",
    "    x = layers.Conv2D(32, 3)(inputs)\n",
    "    # this regularizes your data\n",
    "    x = layers.BatchNormalization()(x)\n",
    "    x = keras.activations.relu(x)\n",
    "    x = layers.MaxPooling2D()(x)\n",
    "    x = layers.Conv2D(64, 3)(x)\n",
    "    x = layers.BatchNormalization()(x)\n",
    "    x = keras.activations.relu(x)\n",
    "    x = layers.MaxPooling2D()(x)\n",
    "    x = layers.Conv2D(128, 3)(x)\n",
    "    x = layers.BatchNormalization()(x)\n",
    "    x = keras.activations.relu(x)\n",
    "    x = layers.Flatten()(x)\n",
    "    x = layers.Dense(64, activation=\"relu\")(x)\n",
    "    outputs = layers.Dense(10)(x)\n",
    "    model = keras.Model(inputs=inputs, outputs=outputs)\n",
    "    return model"
   ]
  },
  {
   "cell_type": "code",
   "execution_count": 6,
   "id": "d4c30c27",
   "metadata": {},
   "outputs": [],
   "source": [
    "model = my_model()\n",
    "model.compile(\n",
    "    loss=keras.losses.SparseCategoricalCrossentropy(from_logits=True),\n",
    "    optimizer=keras.optimizers.Adam(learning_rate=3e-4),\n",
    "    metrics=[\"accuracy\"]\n",
    ")"
   ]
  },
  {
   "cell_type": "code",
   "execution_count": 7,
   "id": "9b9ad9a7",
   "metadata": {},
   "outputs": [
    {
     "name": "stdout",
     "output_type": "stream",
     "text": [
      "Epoch 1/10\n",
      "782/782 - 25s - loss: 1.3286 - accuracy: 0.5273 - 25s/epoch - 32ms/step\n",
      "Epoch 2/10\n",
      "782/782 - 26s - loss: 0.9401 - accuracy: 0.6690 - 26s/epoch - 33ms/step\n",
      "Epoch 3/10\n",
      "782/782 - 27s - loss: 0.7914 - accuracy: 0.7229 - 27s/epoch - 34ms/step\n",
      "Epoch 4/10\n",
      "782/782 - 29s - loss: 0.6861 - accuracy: 0.7608 - 29s/epoch - 38ms/step\n",
      "Epoch 5/10\n",
      "782/782 - 26s - loss: 0.6005 - accuracy: 0.7920 - 26s/epoch - 34ms/step\n",
      "Epoch 6/10\n",
      "782/782 - 29s - loss: 0.5364 - accuracy: 0.8148 - 29s/epoch - 36ms/step\n",
      "Epoch 7/10\n",
      "782/782 - 30s - loss: 0.4725 - accuracy: 0.8373 - 30s/epoch - 39ms/step\n",
      "Epoch 8/10\n",
      "782/782 - 30s - loss: 0.4134 - accuracy: 0.8589 - 30s/epoch - 38ms/step\n",
      "Epoch 9/10\n",
      "782/782 - 31s - loss: 0.3648 - accuracy: 0.8764 - 31s/epoch - 39ms/step\n",
      "Epoch 10/10\n",
      "782/782 - 29s - loss: 0.3197 - accuracy: 0.8919 - 29s/epoch - 37ms/step\n",
      "157/157 - 3s - loss: 0.9381 - accuracy: 0.7161 - 3s/epoch - 20ms/step\n"
     ]
    },
    {
     "data": {
      "text/plain": [
       "[0.9381260871887207, 0.7160999774932861]"
      ]
     },
     "execution_count": 7,
     "metadata": {},
     "output_type": "execute_result"
    }
   ],
   "source": [
    "model.fit(x_train, y_train, batch_size=64, epochs=10, verbose=2)\n",
    "model.evaluate(x_test, y_test, batch_size=64, verbose=2)"
   ]
  },
  {
   "cell_type": "code",
   "execution_count": null,
   "id": "422aa531",
   "metadata": {},
   "outputs": [],
   "source": []
  }
 ],
 "metadata": {
  "kernelspec": {
   "display_name": "Python 3 (ipykernel)",
   "language": "python",
   "name": "python3"
  },
  "language_info": {
   "codemirror_mode": {
    "name": "ipython",
    "version": 3
   },
   "file_extension": ".py",
   "mimetype": "text/x-python",
   "name": "python",
   "nbconvert_exporter": "python",
   "pygments_lexer": "ipython3",
   "version": "3.10.12"
  }
 },
 "nbformat": 4,
 "nbformat_minor": 5
}
