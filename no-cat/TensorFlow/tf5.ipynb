{
 "cells": [
  {
   "cell_type": "code",
   "execution_count": 1,
   "id": "6c30feba",
   "metadata": {},
   "outputs": [
    {
     "name": "stdout",
     "output_type": "stream",
     "text": [
      "No GPU device found\n"
     ]
    }
   ],
   "source": [
    "# https://github.com/aladdinpersson/Machine-Learning-Collection/blob/master/ML/TensorFlow/Basics/tutorial6-rnn-gru-lstm.py\n",
    "\n",
    "import os\n",
    "import tensorflow as tf\n",
    "from tensorflow import keras\n",
    "from tensorflow.keras import layers\n",
    "from tensorflow.keras.datasets import mnist\n",
    "\n",
    "# os.environ[\"TF_CPP_MIN_LOG_LEVEL\"] = \"2\"\n",
    "os.environ[\"TF_ENABLE_ONEDNN_OPTS\"] = \"1\"\n",
    "# os.environ[\"MKL_DEBUG_CPU_TYPE\"] = \"5\"\n",
    "# os.environ[\"KMP_BLOCKTIME\"] = \"1\"\n",
    "# os.environ[\"KMP_AFFINITY\"] = \"granularity=fine,compact,1,0\"\n",
    "# os.environ[\"OMP_NUM_THREADS\"] = \"<num_threads>\"\n",
    "\n",
    "gpus = tf.config.experimental.list_physical_devices('GPU')\n",
    "if gpus:\n",
    "      for gpu in gpus:\n",
    "            tf.config.experimental.set_memory_growth(gpu, True)\n",
    "            physical_devices = tf.config.list_physical_devices(\"GPU\")\n",
    "            tf.config.experimental.set_memory_growth(physical_devices[0], True)\n",
    "else:\n",
    "      print(\"No GPU device found\")"
   ]
  },
  {
   "cell_type": "code",
   "execution_count": 2,
   "id": "cfe06e3f",
   "metadata": {},
   "outputs": [],
   "source": [
    "(x_train, y_train), (x_test, y_test) = mnist.load_data()\n",
    "x_train = x_train.reshape([-1, 28, 28]).astype(\"float32\") / 255.0\n",
    "x_test = x_test.reshape([-1, 28, 28]).astype(\"float32\") / 255.0"
   ]
  },
  {
   "cell_type": "code",
   "execution_count": 3,
   "id": "f9aeafdd",
   "metadata": {},
   "outputs": [
    {
     "name": "stdout",
     "output_type": "stream",
     "text": [
      "Model: \"sequential\"\n",
      "_________________________________________________________________\n",
      " Layer (type)                Output Shape              Param #   \n",
      "=================================================================\n",
      " simple_rnn (SimpleRNN)      (None, None, 512)         276992    \n",
      "                                                                 \n",
      " simple_rnn_1 (SimpleRNN)    (None, 512)               524800    \n",
      "                                                                 \n",
      " dense (Dense)               (None, 10)                5130      \n",
      "                                                                 \n",
      "=================================================================\n",
      "Total params: 806,922\n",
      "Trainable params: 806,922\n",
      "Non-trainable params: 0\n",
      "_________________________________________________________________\n"
     ]
    }
   ],
   "source": [
    "# THESE ARE ALL SEPARATE MODELS\n",
    "model1 = keras.Sequential()\n",
    "model1.add(keras.Input(shape=(None, 28)))\n",
    "# simple rnn is a type of neural network used to dela specifically with sequential data (one long ass stream of data).\n",
    "# return_sequences returns the output from each time step so we can stack multiple rnn layers on top of each other.\n",
    "# in this case, 28 time steps.\n",
    "model1.add(layers.SimpleRNN(512, return_sequences=True, activation=\"relu\"))\n",
    "model1.add(layers.SimpleRNN(512, activation=\"relu\"))\n",
    "model1.add(layers.Dense(10))\n",
    "model1.summary()"
   ]
  },
  {
   "cell_type": "code",
   "execution_count": 4,
   "id": "817290bc",
   "metadata": {},
   "outputs": [
    {
     "name": "stdout",
     "output_type": "stream",
     "text": [
      "Model: \"sequential_1\"\n",
      "_________________________________________________________________\n",
      " Layer (type)                Output Shape              Param #   \n",
      "=================================================================\n",
      " simple_rnn_2 (SimpleRNN)    (None, None, 256)         72960     \n",
      "                                                                 \n",
      " simple_rnn_3 (SimpleRNN)    (None, 256)               131328    \n",
      "                                                                 \n",
      " dense_1 (Dense)             (None, 10)                2570      \n",
      "                                                                 \n",
      "=================================================================\n",
      "Total params: 206,858\n",
      "Trainable params: 206,858\n",
      "Non-trainable params: 0\n",
      "_________________________________________________________________\n"
     ]
    }
   ],
   "source": [
    "model2 = keras.Sequential()\n",
    "model2.add(keras.Input(shape=(None, 28)))\n",
    "model2.add(layers.SimpleRNN(256, return_sequences=True, activation=\"tanh\"))\n",
    "model2.add(layers.SimpleRNN(256, activation=\"relu\"))\n",
    "model2.add(layers.Dense(10))\n",
    "model2.summary()"
   ]
  },
  {
   "cell_type": "code",
   "execution_count": 5,
   "id": "4ba37828",
   "metadata": {},
   "outputs": [
    {
     "name": "stdout",
     "output_type": "stream",
     "text": [
      "Model: \"sequential_2\"\n",
      "_________________________________________________________________\n",
      " Layer (type)                Output Shape              Param #   \n",
      "=================================================================\n",
      " gru (GRU)                   (None, None, 256)         219648    \n",
      "                                                                 \n",
      " gru_1 (GRU)                 (None, 256)               394752    \n",
      "                                                                 \n",
      " dense_2 (Dense)             (None, 10)                2570      \n",
      "                                                                 \n",
      "=================================================================\n",
      "Total params: 616,970\n",
      "Trainable params: 616,970\n",
      "Non-trainable params: 0\n",
      "_________________________________________________________________\n"
     ]
    }
   ],
   "source": [
    "model3 = keras.Sequential()\n",
    "model3.add(keras.Input(shape=(None, 28)))\n",
    "# a gated recurrent unit is a type of rnn that has advantages over long short term memory (lstm).\n",
    "# gru uses less memory and is faste than lstm, but lstm is more accurate on datasets that use long sequences.\n",
    "model3.add(layers.GRU(256, return_sequences=True, activation=\"relu\"))\n",
    "model3.add(layers.GRU(256, activation=\"relu\"))\n",
    "model3.add(layers.Dense(10))\n",
    "model3.summary()"
   ]
  },
  {
   "cell_type": "code",
   "execution_count": 6,
   "id": "1ee1189c",
   "metadata": {},
   "outputs": [],
   "source": [
    "model4 = keras.Sequential()\n",
    "model4.add(keras.Input(shape=(None, 28)))\n",
    "# bidirectional rnns connect 2 hidden layers of opposite directions to the same output.\n",
    "# 256 becomes 512 because we're letting it pass crap twice.\n",
    "model4.add(layers.Bidirectional(layers.LSTM(256, return_sequences=True, activation=\"relu\")))\n",
    "model4.add(layers.Bidirectional(layers.LSTM(256, name=\"lstm_layer2\")))\n",
    "model4.add(layers.Dense(10))\n",
    "model4.summary()"
   ]
  },
  {
   "cell_type": "code",
   "execution_count": 7,
   "id": "0a043945",
   "metadata": {},
   "outputs": [],
   "source": [
    "def do_something(model):\n",
    "    print(model.summary())\n",
    "    model1.compile(\n",
    "        loss=keras.losses.SparseCategoricalCrossentropy(from_logits=True),\n",
    "        optimizer=keras.optimizers.Adam(learning_rate=0.001),\n",
    "        metrics=[\"accuracy\"]\n",
    "    )\n",
    "    model1.fit(x_train, y_train, batch_size=64, epochs=10, verbose=1)\n",
    "    model1.evaluate(x_test, y_test, batch_size=64, verbose=1)"
   ]
  },
  {
   "cell_type": "code",
   "execution_count": 8,
   "id": "39c6f284",
   "metadata": {},
   "outputs": [
    {
     "name": "stdout",
     "output_type": "stream",
     "text": [
      "Model: \"sequential\"\n",
      "_________________________________________________________________\n",
      " Layer (type)                Output Shape              Param #   \n",
      "=================================================================\n",
      " simple_rnn (SimpleRNN)      (None, None, 512)         276992    \n",
      "                                                                 \n",
      " simple_rnn_1 (SimpleRNN)    (None, 512)               524800    \n",
      "                                                                 \n",
      " dense (Dense)               (None, 10)                5130      \n",
      "                                                                 \n",
      "=================================================================\n",
      "Total params: 806,922\n",
      "Trainable params: 806,922\n",
      "Non-trainable params: 0\n",
      "_________________________________________________________________\n",
      "None\n",
      "Epoch 1/10\n",
      "938/938 [==============================] - 120s 123ms/step - loss: 0.3077 - accuracy: 0.9057\n",
      "Epoch 2/10\n",
      "938/938 [==============================] - 116s 123ms/step - loss: 0.1484 - accuracy: 0.9597\n",
      "Epoch 3/10\n",
      "938/938 [==============================] - 115s 123ms/step - loss: 0.1105 - accuracy: 0.9702\n",
      "Epoch 4/10\n",
      "938/938 [==============================] - 114s 122ms/step - loss: 0.1059 - accuracy: 0.9709\n",
      "Epoch 5/10\n",
      "938/938 [==============================] - 115s 122ms/step - loss: 0.0977 - accuracy: 0.9732\n",
      "Epoch 6/10\n",
      "938/938 [==============================] - 116s 124ms/step - loss: 0.0869 - accuracy: 0.9765\n",
      "Epoch 7/10\n",
      "938/938 [==============================] - 116s 124ms/step - loss: 0.0826 - accuracy: 0.9774\n",
      "Epoch 8/10\n",
      "938/938 [==============================] - 117s 125ms/step - loss: 0.0720 - accuracy: 0.9805\n",
      "Epoch 9/10\n",
      "938/938 [==============================] - 117s 125ms/step - loss: 0.0684 - accuracy: 0.9816\n",
      "Epoch 10/10\n",
      "938/938 [==============================] - 117s 124ms/step - loss: 0.0743 - accuracy: 0.9803\n",
      "157/157 [==============================] - 8s 44ms/step - loss: 0.0814 - accuracy: 0.9778\n"
     ]
    }
   ],
   "source": [
    "do_something(model1)"
   ]
  },
  {
   "cell_type": "code",
   "execution_count": null,
   "id": "cfc68e9a",
   "metadata": {},
   "outputs": [],
   "source": []
  }
 ],
 "metadata": {
  "kernelspec": {
   "display_name": "Python 3 (ipykernel)",
   "language": "python",
   "name": "python3"
  },
  "language_info": {
   "codemirror_mode": {
    "name": "ipython",
    "version": 3
   },
   "file_extension": ".py",
   "mimetype": "text/x-python",
   "name": "python",
   "nbconvert_exporter": "python",
   "pygments_lexer": "ipython3",
   "version": "3.10.12"
  }
 },
 "nbformat": 4,
 "nbformat_minor": 5
}
