{
 "cells": [
  {
   "cell_type": "code",
   "execution_count": 1,
   "id": "0613a541",
   "metadata": {},
   "outputs": [],
   "source": [
    "# https://github.com/patrickloeber/pytorchTutorial/blob/master/14_cnn.py\n",
    "\n",
    "import matplotlib.pyplot as plt\n",
    "import numpy as np\n",
    "import torch\n",
    "import torch.nn as nn\n",
    "import torch.nn.functional as F\n",
    "import torchvision\n",
    "import torchvision.transforms as transforms\n",
    "\n",
    "# device configuration\n",
    "device = torch.device(\"cuda\" if torch.cuda.is_available() else \"cpu\")"
   ]
  },
  {
   "cell_type": "code",
   "execution_count": 2,
   "id": "5ec7d4cc",
   "metadata": {},
   "outputs": [
    {
     "name": "stdout",
     "output_type": "stream",
     "text": [
      "Files already downloaded and verified\n",
      "Files already downloaded and verified\n"
     ]
    }
   ],
   "source": [
    "# hyperparameters\n",
    "num_epochs = 5\n",
    "batch_size = 4\n",
    "lr = 0.001\n",
    "\n",
    "# dataset has PILImage images of range [0, 1]\n",
    "# we transform them to tensors of normalized range [-1, 1]\n",
    "transform = transforms.Compose(\n",
    "    [transforms.ToTensor(),\n",
    "    transforms.Normalize((0.5, 0.5, 0.5), (0.5, 0.5, 0.5))])\n",
    "\n",
    "# CIFAR10: 60000 32x32 color images in 10 classes, with 6000 images per class\n",
    "train_dataset = torchvision.datasets.CIFAR10(root=\"./data\",\n",
    "                                             train=True,\n",
    "                                             download=True,\n",
    "                                             transform=transform)\n",
    "\n",
    "test_dataset = torchvision.datasets.CIFAR10(root=\"./data\",\n",
    "                                             train=False,\n",
    "                                             download=True,\n",
    "                                             transform=transform)\n",
    "\n",
    "train_loader = torch.utils.data.DataLoader(train_dataset,\n",
    "                                           batch_size=batch_size,\n",
    "                                           shuffle=True)\n",
    "\n",
    "test_loader = torch.utils.data.DataLoader(train_dataset,\n",
    "                                           batch_size=batch_size,\n",
    "                                           shuffle=False)"
   ]
  },
  {
   "cell_type": "code",
   "execution_count": 3,
   "id": "7406cf72",
   "metadata": {},
   "outputs": [
    {
     "data": {
      "image/png": "[encoded data removed]",
      "text/plain": [
       "<Figure size 640x480 with 1 Axes>"
      ]
     },
     "metadata": {},
     "output_type": "display_data"
    }
   ],
   "source": [
    "classes = (\"plane\", \"car\", \"bird\", \"cat\", \"deer\",\n",
    "          \"dog\", \"frog\", \"horse\", \"ship\", \"truck\")\n",
    "\n",
    "def imshow(img):\n",
    "    img = img / 2 + 0.5 # unnormalize\n",
    "    npimg = img.numpy()\n",
    "    plt.imshow(np.transpose(npimg, (1, 2, 0)))\n",
    "    plt.show\n",
    "\n",
    "# get some random training images\n",
    "dataiter = iter(train_loader)\n",
    "images, labels = next(dataiter)\n",
    "\n",
    "# show images\n",
    "imshow(torchvision.utils.make_grid(images))"
   ]
  },
  {
   "cell_type": "code",
   "execution_count": 4,
   "id": "04c68cdb",
   "metadata": {},
   "outputs": [],
   "source": [
    "class ConvNet(nn.Module):\n",
    "    def __init__(self):\n",
    "        super(ConvNet, self).__init__()\n",
    "        # 3 for the input size, because the images have 3 color channels\n",
    "        # 6 output channels\n",
    "        # 5 for the kernel size, presumably a 5x5 kernel\n",
    "        self.conv1 = nn.Conv2d(3, 6, 5)\n",
    "        # pooling layer of size 2x2, with a stride of 2, meaning shift\n",
    "        # 2 pixels to the right\n",
    "        self.pool = nn.MaxPool2d(2, 2)\n",
    "        # 6 is now the input size, because the output from the previous\n",
    "        # layer is 6\n",
    "        # 16 just because\n",
    "        self.conv2 = nn.Conv2d(6, 16, 5)\n",
    "        # fully connected layers, or dense, if you're coming from TensorFlow\n",
    "        # you can swap the numbers 120 and 84 with whatever you want,\n",
    "        # but 16 * 5 * 5 and 10 cannot be changed\n",
    "        # it's 16 * 5 * 5 because that is the size returned when printing\n",
    "        # the last layer\n",
    "        self.fc1 = nn.Linear(16 * 5 * 5, 120)\n",
    "        self.fc2 = nn.Linear(120, 84)\n",
    "        # 10 because we have 10 different classes (see the dict above this cell)\n",
    "        self.fc3 = nn.Linear(84, 10)\n",
    "        \n",
    "    def forward(self, x):\n",
    "        # -> n, 3, 32, 32\n",
    "        x = self.pool(F.relu(self.conv1(x))) # -> n, 6, 14, 14 | conv, relu, then pool\n",
    "        x = self.pool(F.relu(self.conv2(x))) # -> n, 6, 5, 5 | conv, relu, then pool\n",
    "        x = x.view(-1, 16 * 5 * 5)           # -> n, 400 | flatten before going to a dense layer\n",
    "        x = F.relu(self.fc1(x))              # -> n, 120 | relu, then dense\n",
    "        x = F.relu(self.fc2(x))              # -> n, 84 | relu, then dense\n",
    "        x = self.fc3(x)                      # -> n, 10 | dense\n",
    "        return x\n",
    "    \n",
    "model = ConvNet().to(device)"
   ]
  },
  {
   "cell_type": "code",
   "execution_count": 5,
   "id": "5cf4b623",
   "metadata": {},
   "outputs": [],
   "source": [
    "criterion = nn.CrossEntropyLoss()\n",
    "optimizer = torch.optim.SGD(model.parameters(), lr=lr)"
   ]
  },
  {
   "cell_type": "code",
   "execution_count": 6,
   "id": "fb3de6f1",
   "metadata": {},
   "outputs": [
    {
     "name": "stdout",
     "output_type": "stream",
     "text": [
      "epoch [1/5], step [2000/12500], loss: 2.2876\n",
      "epoch [1/5], step [4000/12500], loss: 2.3043\n",
      "epoch [1/5], step [6000/12500], loss: 2.2874\n",
      "epoch [1/5], step [8000/12500], loss: 2.2942\n",
      "epoch [1/5], step [10000/12500], loss: 2.1239\n",
      "epoch [1/5], step [12000/12500], loss: 2.0120\n",
      "epoch [2/5], step [2000/12500], loss: 1.6606\n",
      "epoch [2/5], step [4000/12500], loss: 2.0438\n",
      "epoch [2/5], step [6000/12500], loss: 1.4382\n",
      "epoch [2/5], step [8000/12500], loss: 2.2515\n",
      "epoch [2/5], step [10000/12500], loss: 2.0874\n",
      "epoch [2/5], step [12000/12500], loss: 2.2474\n",
      "epoch [3/5], step [2000/12500], loss: 1.3972\n",
      "epoch [3/5], step [4000/12500], loss: 1.5176\n",
      "epoch [3/5], step [6000/12500], loss: 1.9853\n",
      "epoch [3/5], step [8000/12500], loss: 1.4324\n",
      "epoch [3/5], step [10000/12500], loss: 1.4322\n",
      "epoch [3/5], step [12000/12500], loss: 1.5962\n",
      "epoch [4/5], step [2000/12500], loss: 2.0131\n",
      "epoch [4/5], step [4000/12500], loss: 1.0651\n",
      "epoch [4/5], step [6000/12500], loss: 1.7577\n",
      "epoch [4/5], step [8000/12500], loss: 1.2692\n",
      "epoch [4/5], step [10000/12500], loss: 2.2065\n",
      "epoch [4/5], step [12000/12500], loss: 1.2973\n",
      "epoch [5/5], step [2000/12500], loss: 1.1115\n",
      "epoch [5/5], step [4000/12500], loss: 2.3099\n",
      "epoch [5/5], step [6000/12500], loss: 1.9673\n",
      "epoch [5/5], step [8000/12500], loss: 2.5598\n",
      "epoch [5/5], step [10000/12500], loss: 1.1358\n",
      "epoch [5/5], step [12000/12500], loss: 1.8257\n",
      "finished training\n"
     ]
    }
   ],
   "source": [
    "n_total_steps = len(train_loader)\n",
    "for epoch in range(num_epochs):\n",
    "    for i, (images, labels) in enumerate(train_loader):\n",
    "        # origin shape: [4, 3, 32, 32] = 4, 3, 1024\n",
    "        # input_layer: 3 input channels, 6 output channls, 5 kernel size\n",
    "        images = images.to(device)\n",
    "        labels = labels.to(device)\n",
    "        \n",
    "        # forward pass\n",
    "        outputs = model(images)\n",
    "        loss = criterion(outputs, labels)\n",
    "        \n",
    "        # backward and optimize\n",
    "        optimizer.zero_grad()\n",
    "        loss.backward()\n",
    "        optimizer.step()\n",
    "        \n",
    "        if (i + 1) % 2000 == 0:\n",
    "            print(f\"epoch [{epoch + 1}/{num_epochs}], step [{i + 1}/{n_total_steps}], loss: {loss.item():.4f}\")\n",
    "            \n",
    "print(\"finished training\")\n",
    "PATH = \"./cnn.pth\"\n",
    "torch.save(model.state_dict(), PATH)"
   ]
  },
  {
   "cell_type": "code",
   "execution_count": 8,
   "id": "194caa8e",
   "metadata": {},
   "outputs": [
    {
     "name": "stdout",
     "output_type": "stream",
     "text": [
      "accuracy of the network: 49.184%\n",
      "accuracy of plane: 50.96%\n",
      "accuracy of car: 84.98%\n",
      "accuracy of bird: 26.12%\n",
      "accuracy of cat: 36.28%\n",
      "accuracy of deer: 34.3%\n",
      "accuracy of dog: 35.08%\n",
      "accuracy of frog: 58.44%\n",
      "accuracy of horse: 67.92%\n",
      "accuracy of ship: 56.6%\n",
      "accuracy of truck: 41.16%\n"
     ]
    }
   ],
   "source": [
    "with torch.no_grad():\n",
    "    n_correct = 0\n",
    "    n_samples = 0\n",
    "    n_class_correct = [0 for i in range(10)]\n",
    "    n_class_samples = [0 for i in range(10)]\n",
    "    for images, labels in test_loader:\n",
    "        images = images.to(device)\n",
    "        labels = labels.to(device)\n",
    "        outputs = model(images)\n",
    "        # max returns (value, index)\n",
    "        _, predicted = torch.max(outputs, 1)\n",
    "        n_samples += labels.size(0)\n",
    "        n_correct += (predicted == labels).sum().item()\n",
    "        \n",
    "        for i in range(batch_size):\n",
    "            label = labels[i]\n",
    "            pred = predicted[i]\n",
    "            if (label == pred):\n",
    "                n_class_correct[label] += 1\n",
    "            n_class_samples[label] += 1\n",
    "    acc = 100.0 * n_correct / n_samples\n",
    "    print(f\"accuracy of the network: {acc}%\")\n",
    "    \n",
    "    for i in range(10):\n",
    "        acc = 100.00 * n_class_correct[i] / n_class_samples[i]\n",
    "        print(f\"accuracy of {classes[i]}: {acc}%\")"
   ]
  },
  {
   "cell_type": "code",
   "execution_count": null,
   "id": "966d4133",
   "metadata": {},
   "outputs": [],
   "source": []
  }
 ],
 "metadata": {
  "kernelspec": {
   "display_name": "Python 3 (ipykernel)",
   "language": "python",
   "name": "python3"
  },
  "language_info": {
   "codemirror_mode": {
    "name": "ipython",
    "version": 3
   },
   "file_extension": ".py",
   "mimetype": "text/x-python",
   "name": "python",
   "nbconvert_exporter": "python",
   "pygments_lexer": "ipython3",
   "version": "3.11.5"
  }
 },
 "nbformat": 4,
 "nbformat_minor": 5
}
