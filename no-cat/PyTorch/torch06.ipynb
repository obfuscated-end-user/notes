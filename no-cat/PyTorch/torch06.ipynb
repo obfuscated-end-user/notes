{
 "cells": [
  {
   "cell_type": "markdown",
   "id": "7c408bbf",
   "metadata": {},
   "source": [
    "1. Design model (input, output, forward pass with different layers)\n",
    "2. Construct loss and optimizer\n",
    "3. Training loop\n",
    "    - Forward = compute prediction and loss\n",
    "    - Backward = compute gradients\n",
    "    - Update weights"
   ]
  },
  {
   "cell_type": "code",
   "execution_count": 1,
   "id": "79edf857",
   "metadata": {},
   "outputs": [],
   "source": [
    "# https://github.com/patrickloeber/pytorchTutorial/blob/master/06_1_loss_and_optimizer.py\n",
    "\n",
    "import torch\n",
    "import torch.nn as nn"
   ]
  },
  {
   "cell_type": "code",
   "execution_count": 2,
   "id": "9972cfa5",
   "metadata": {},
   "outputs": [],
   "source": [
    "# Linear regression\n",
    "# f = w * x\n",
    "# here: f = 2 * x\n",
    "\n",
    "# 0. training samples\n",
    "X = torch.tensor([1, 2, 3, 4], dtype=torch.float32)\n",
    "y = torch.tensor([2, 4, 6, 8], dtype=torch.float32)\n",
    "\n",
    "# 1. design model: weights to optimize and forward function\n",
    "w = torch.tensor(0.0, dtype=torch.float32, requires_grad=True)"
   ]
  },
  {
   "cell_type": "code",
   "execution_count": 3,
   "id": "5d25035d",
   "metadata": {},
   "outputs": [
    {
     "name": "stdout",
     "output_type": "stream",
     "text": [
      "Prediction before training: f(5) = 0.000\n"
     ]
    }
   ],
   "source": [
    "def forward(x):\n",
    "    return w * x\n",
    "\n",
    "print(f\"Prediction before training: f(5) = {forward(5).item():.3f}\")"
   ]
  },
  {
   "cell_type": "code",
   "execution_count": 4,
   "id": "ef7823f9",
   "metadata": {},
   "outputs": [],
   "source": [
    "# 2. define loss and optimizer\n",
    "lr = 0.01\n",
    "n_iters = 100\n",
    "\n",
    "# callable function\n",
    "loss = nn.MSELoss()\n",
    "optimizer = torch.optim.SGD([w], lr=lr)"
   ]
  },
  {
   "cell_type": "code",
   "execution_count": 5,
   "id": "b9aa77f5",
   "metadata": {},
   "outputs": [
    {
     "name": "stdout",
     "output_type": "stream",
     "text": [
      "epoch 1: w = 0.29999998211860657, loss = 30.0\n",
      "epoch 11: w = 1.6653136014938354, loss = 1.1627856492996216\n",
      "epoch 21: w = 1.934108853340149, loss = 0.0450688973069191\n",
      "epoch 31: w = 1.987027645111084, loss = 0.0017468547448515892\n",
      "epoch 41: w = 1.9974461793899536, loss = 6.770494655938819e-05\n",
      "epoch 51: w = 1.9994971752166748, loss = 2.6243997126584873e-06\n",
      "epoch 61: w = 1.9999010562896729, loss = 1.0175587306093803e-07\n",
      "epoch 71: w = 1.9999804496765137, loss = 3.9741685498029256e-09\n",
      "epoch 81: w = 1.999996304512024, loss = 1.4670220593870908e-10\n",
      "epoch 91: w = 1.9999992847442627, loss = 5.076827847005916e-12\n",
      "Prediction after training: f(5) = 10.000\n"
     ]
    }
   ],
   "source": [
    "# 3. training loop\n",
    "for epoch in range(n_iters):\n",
    "    # predict = forward pass\n",
    "    y_predicted = forward(X)\n",
    "    \n",
    "    # loss\n",
    "    l = loss(y, y_predicted)\n",
    "    \n",
    "    # calculate gradients = backward pass\n",
    "    l.backward()\n",
    "    \n",
    "    # update weights\n",
    "    optimizer.step()\n",
    "    \n",
    "    # zero the gradients after updating\n",
    "    optimizer.zero_grad()\n",
    "    \n",
    "    if epoch % 10 == 0:\n",
    "        print(f\"epoch {epoch + 1}: w = {w}, loss = {l}\")\n",
    "        \n",
    "print(f\"Prediction after training: f(5) = {forward(5).item():.3f}\")"
   ]
  },
  {
   "cell_type": "code",
   "execution_count": null,
   "id": "695de0c3",
   "metadata": {},
   "outputs": [],
   "source": []
  }
 ],
 "metadata": {
  "kernelspec": {
   "display_name": "Python 3 (ipykernel)",
   "language": "python",
   "name": "python3"
  },
  "language_info": {
   "codemirror_mode": {
    "name": "ipython",
    "version": 3
   },
   "file_extension": ".py",
   "mimetype": "text/x-python",
   "name": "python",
   "nbconvert_exporter": "python",
   "pygments_lexer": "ipython3",
   "version": "3.11.5"
  }
 },
 "nbformat": 4,
 "nbformat_minor": 5
}
