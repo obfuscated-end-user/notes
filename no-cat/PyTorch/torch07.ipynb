{
 "cells": [
  {
   "cell_type": "markdown",
   "id": "188d7f61",
   "metadata": {},
   "source": [
    "1. Design model (input, output, forward pass with different layers)\n",
    "2. Construct loss and optimizer\n",
    "3. Training loop\n",
    "    - Forward = compute prediction and loss\n",
    "    - Backward = compute gradients\n",
    "    - Update weights"
   ]
  },
  {
   "cell_type": "code",
   "execution_count": 1,
   "id": "abca0f45",
   "metadata": {},
   "outputs": [],
   "source": [
    "# https://github.com/patrickloeber/pytorchTutorial/blob/master/06_2_model_loss_and_%20optimizer.py\n",
    "\n",
    "import torch\n",
    "import torch.nn as nn"
   ]
  },
  {
   "cell_type": "code",
   "execution_count": 2,
   "id": "94191a33",
   "metadata": {},
   "outputs": [
    {
     "name": "stdout",
     "output_type": "stream",
     "text": [
      "samples: 4, features: 1\n"
     ]
    }
   ],
   "source": [
    "# Linear regression\n",
    "# f = w * x\n",
    "# here: f = 2 * x\n",
    "\n",
    "# 0. training samples, watch the shape!\n",
    "X = torch.tensor([[1], [2], [3], [4]], dtype=torch.float32)\n",
    "y = torch.tensor([[2], [4], [6], [8]], dtype=torch.float32)\n",
    "\n",
    "n_samples, n_features = X.shape\n",
    "print(f\"samples: {n_samples}, features: {n_features}\")\n",
    "\n",
    "# create a test sample\n",
    "X_test = torch.tensor([5], dtype=torch.float32)"
   ]
  },
  {
   "cell_type": "code",
   "execution_count": 3,
   "id": "43ae4a22",
   "metadata": {},
   "outputs": [],
   "source": [
    "# 1. design model, the model has to implement the forward pass!\n",
    "# here we can use a built-in model from pytorch\n",
    "input_size = n_features\n",
    "output_size = n_features\n",
    "\n",
    "# we can call this model with samples X\n",
    "model = nn.Linear(input_size, output_size)"
   ]
  },
  {
   "cell_type": "code",
   "execution_count": 4,
   "id": "a86e76e0",
   "metadata": {},
   "outputs": [],
   "source": [
    "class LinearRegression(nn.Module):\n",
    "    def __init__(self, input_dim, output_dim):\n",
    "        super(LinearRegression, self).__init__()\n",
    "        # define different layers\n",
    "        self.lin = nn.Linear(input_dim, output_dim)\n",
    "        \n",
    "    def forward(self, x):\n",
    "        return self.lin(x)\n",
    "    \n",
    "model1 = LinearRegression(input_size, output_size)"
   ]
  },
  {
   "cell_type": "code",
   "execution_count": 5,
   "id": "5fe269db",
   "metadata": {},
   "outputs": [
    {
     "name": "stdout",
     "output_type": "stream",
     "text": [
      "Prediction before training: f(5) = 3.103\n"
     ]
    }
   ],
   "source": [
    "print(f\"Prediction before training: f(5) = {model(X_test).item():.3f}\")"
   ]
  },
  {
   "cell_type": "code",
   "execution_count": 6,
   "id": "974b8ea6",
   "metadata": {},
   "outputs": [],
   "source": [
    "# 2. define loss and optimizer\n",
    "lr = 0.01\n",
    "n_iters = 100\n",
    "\n",
    "loss = nn.MSELoss()\n",
    "optimizer = torch.optim.SGD(model.parameters(), lr=lr)"
   ]
  },
  {
   "cell_type": "code",
   "execution_count": 7,
   "id": "15f01c73",
   "metadata": {},
   "outputs": [
    {
     "name": "stdout",
     "output_type": "stream",
     "text": [
      "epoch 1: w = 0.7350224256515503, loss = 13.162267684936523\n",
      "epoch 11: w = 1.5705442428588867, loss = 0.4441845417022705\n",
      "epoch 21: w = 1.7116124629974365, loss = 0.10910458862781525\n",
      "epoch 31: w = 1.740781307220459, loss = 0.09475366771221161\n",
      "epoch 41: w = 1.7517598867416382, loss = 0.08903154730796814\n",
      "epoch 51: w = 1.759626865386963, loss = 0.08384406566619873\n",
      "epoch 61: w = 1.766813039779663, loss = 0.07896380126476288\n",
      "epoch 71: w = 1.7737151384353638, loss = 0.0743677020072937\n",
      "epoch 81: w = 1.780401587486267, loss = 0.07003910839557648\n",
      "epoch 91: w = 1.786888599395752, loss = 0.06596244871616364\n",
      "Prediction after training: f(5) = 9.573\n"
     ]
    }
   ],
   "source": [
    "# 3. training loop\n",
    "for epoch in range(n_iters):\n",
    "    # predict = forward pass with our model\n",
    "    y_predicted = model(X)\n",
    "    \n",
    "    # loss\n",
    "    l = loss(y, y_predicted)\n",
    "    \n",
    "    # calculate gradients = backward pass\n",
    "    l.backward()\n",
    "    \n",
    "    # update weights\n",
    "    optimizer.step()\n",
    "    \n",
    "    # zero the gradients after updating\n",
    "    optimizer.zero_grad()\n",
    "    \n",
    "    if epoch % 10 == 0:\n",
    "        # unpack parameters\n",
    "        [w, b] = model.parameters()\n",
    "        print(f\"epoch {epoch + 1}: w = {w[0][0].item()}, loss = {l}\")\n",
    "        \n",
    "print(f\"Prediction after training: f(5) = {model(X_test).item():.3f}\")"
   ]
  },
  {
   "cell_type": "code",
   "execution_count": null,
   "id": "88a2ea7c",
   "metadata": {},
   "outputs": [],
   "source": []
  }
 ],
 "metadata": {
  "kernelspec": {
   "display_name": "Python 3 (ipykernel)",
   "language": "python",
   "name": "python3"
  },
  "language_info": {
   "codemirror_mode": {
    "name": "ipython",
    "version": 3
   },
   "file_extension": ".py",
   "mimetype": "text/x-python",
   "name": "python",
   "nbconvert_exporter": "python",
   "pygments_lexer": "ipython3",
   "version": "3.11.5"
  }
 },
 "nbformat": 4,
 "nbformat_minor": 5
}
