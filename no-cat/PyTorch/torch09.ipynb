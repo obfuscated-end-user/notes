{
 "cells": [
  {
   "cell_type": "code",
   "execution_count": 1,
   "id": "3f0beb37",
   "metadata": {},
   "outputs": [],
   "source": [
    "# https://github.com/patrickloeber/pytorchTutorial/blob/master/08_logistic_regression.py\n",
    "\n",
    "import numpy as np\n",
    "import torch\n",
    "import torch.nn as nn\n",
    "from sklearn import datasets\n",
    "from sklearn.model_selection import train_test_split\n",
    "from sklearn.preprocessing import StandardScaler"
   ]
  },
  {
   "cell_type": "code",
   "execution_count": 2,
   "id": "947e1ad7",
   "metadata": {},
   "outputs": [
    {
     "name": "stdout",
     "output_type": "stream",
     "text": [
      "569 30\n"
     ]
    }
   ],
   "source": [
    "# 0. prepare data\n",
    "bc = datasets.load_breast_cancer()\n",
    "X, y = bc.data, bc.target\n",
    "\n",
    "# 569, 30\n",
    "n_smaples, n_features = X.shape\n",
    "print(n_smaples, n_features)\n",
    "\n",
    "# separate training and testing data, with the test data being 20% of all the data\n",
    "X_train, X_test, y_train, y_test = train_test_split(X, y, test_size=0.2, random_state=1234)\n",
    "\n",
    "# scale\n",
    "# StandardScaler scales the features by removing the mean and \"to unit variance\"\n",
    "# tl;dr makes this work\n",
    "sc = StandardScaler()\n",
    "X_train = sc.fit_transform(X_train)\n",
    "X_test = sc.transform(X_test)\n",
    "\n",
    "# convert every numpy ndarray you made into torch tensors\n",
    "# if you did this earlier, you probably won't be able to\n",
    "# do the sklearn crap\n",
    "X_train = torch.from_numpy(X_train.astype(np.float32))\n",
    "X_test = torch.from_numpy(X_test.astype(np.float32))\n",
    "y_train = torch.from_numpy(y_train.astype(np.float32))\n",
    "y_test = torch.from_numpy(y_test.astype(np.float32))\n",
    "\n",
    "# reshape the tensors for easier processing\n",
    "# make them as column vectors\n",
    "# 1 row with x many columns\n",
    "y_train = y_train.view(y_train.shape[0], 1) # 455, 1\n",
    "y_test = y_test.view(y_test.shape[0], 1) # 114, 1"
   ]
  },
  {
   "cell_type": "code",
   "execution_count": 3,
   "id": "f527364f",
   "metadata": {},
   "outputs": [],
   "source": [
    "# 1. model\n",
    "# linear model, f = wx + b, sigmoid at the end\n",
    "class Model(nn.Module):\n",
    "    def __init__(self, n_input_features):\n",
    "        super(Model, self).__init__()\n",
    "        # 1 because we only need 1 class layer at the end\n",
    "        self.linear = nn.Linear(n_input_features, 1)\n",
    "        \n",
    "    def forward(self, x):\n",
    "        y_pred = torch.sigmoid(self.linear(x))\n",
    "        return y_pred\n",
    "\n",
    "# remember, this is a tensor object\n",
    "model = Model(n_features) # 30, 1"
   ]
  },
  {
   "cell_type": "code",
   "execution_count": 4,
   "id": "cea228e4",
   "metadata": {},
   "outputs": [],
   "source": [
    "# 2. loss and optimizer\n",
    "num_epochs = 100\n",
    "lr = 0.01\n",
    "# binary cross-entropy\n",
    "criterion = nn.BCELoss()\n",
    "optimizer = torch.optim.SGD(model.parameters(), lr=lr)"
   ]
  },
  {
   "cell_type": "code",
   "execution_count": 5,
   "id": "6d7f5239",
   "metadata": {},
   "outputs": [
    {
     "name": "stdout",
     "output_type": "stream",
     "text": [
      "epoch 10, loss = 0.6251\n",
      "epoch 20, loss = 0.5085\n",
      "epoch 30, loss = 0.4363\n",
      "epoch 40, loss = 0.3871\n",
      "epoch 50, loss = 0.3511\n",
      "epoch 60, loss = 0.3235\n",
      "epoch 70, loss = 0.3015\n",
      "epoch 80, loss = 0.2834\n",
      "epoch 90, loss = 0.2683\n",
      "epoch 100, loss = 0.2553\n",
      "accuracy: 0.9035\n"
     ]
    }
   ],
   "source": [
    "# 3. training loop\n",
    "for epoch in range(num_epochs):\n",
    "    # forward pass and loss\n",
    "    y_pred = model(X_train)\n",
    "    loss = criterion(y_pred, y_train)\n",
    "    \n",
    "    # backward pass and update\n",
    "    loss.backward()\n",
    "    optimizer.step()\n",
    "    \n",
    "    # zero grad before new step\n",
    "    optimizer.zero_grad()\n",
    "    \n",
    "    if (epoch + 1) % 10 == 0:\n",
    "        print(f\"epoch {epoch + 1}, loss = {loss.item():.4f}\")\n",
    "\n",
    "# evaluation\n",
    "# should not be part of the training loop\n",
    "with torch.no_grad():\n",
    "    y_predicted = model(X_test) # tensor full of decimal values between 1 & 0\n",
    "    y_predicted_cls = y_predicted.round() # tensor full of 0s & 1s, or True/False\n",
    "    acc = y_predicted_cls.eq(y_test).sum() / float(y_test.shape[0])\n",
    "    print(f\"accuracy: {acc.item():.4f}\")"
   ]
  },
  {
   "cell_type": "code",
   "execution_count": null,
   "id": "061792ff",
   "metadata": {},
   "outputs": [],
   "source": []
  }
 ],
 "metadata": {
  "kernelspec": {
   "display_name": "Python 3 (ipykernel)",
   "language": "python",
   "name": "python3"
  },
  "language_info": {
   "codemirror_mode": {
    "name": "ipython",
    "version": 3
   },
   "file_extension": ".py",
   "mimetype": "text/x-python",
   "name": "python",
   "nbconvert_exporter": "python",
   "pygments_lexer": "ipython3",
   "version": "3.11.5"
  }
 },
 "nbformat": 4,
 "nbformat_minor": 5
}
