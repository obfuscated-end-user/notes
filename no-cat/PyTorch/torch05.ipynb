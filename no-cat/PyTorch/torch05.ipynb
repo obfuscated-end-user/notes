{
 "cells": [
  {
   "cell_type": "code",
   "execution_count": 1,
   "id": "1f399b9e",
   "metadata": {},
   "outputs": [],
   "source": [
    "# https://github.com/patrickloeber/pytorchTutorial/blob/master/05_2_gradientdescent_auto.py\n",
    "\n",
    "import torch"
   ]
  },
  {
   "cell_type": "code",
   "execution_count": 2,
   "id": "7e3d0f1d",
   "metadata": {},
   "outputs": [],
   "source": [
    "# Here we replace the manually computed gradient with autograd\n",
    "\n",
    "# Linear regression\n",
    "# f = w * x\n",
    "# here: f = 2 * x\n",
    "X = torch.tensor([1, 2, 3, 4], dtype=torch.float32)\n",
    "y = torch.tensor([2, 4, 6, 8], dtype=torch.float32)\n",
    "\n",
    "w = torch.tensor(0.0, dtype=torch.float32, requires_grad=True)"
   ]
  },
  {
   "cell_type": "code",
   "execution_count": 6,
   "id": "0d0fb8cb",
   "metadata": {},
   "outputs": [
    {
     "name": "stdout",
     "output_type": "stream",
     "text": [
      "Prediction before traningL f(5) = 0.000\n"
     ]
    }
   ],
   "source": [
    "# model output\n",
    "def forward(x):\n",
    "    return w * x\n",
    "\n",
    "# loss = MSE (mean squared error)\n",
    "def loss(y, y_pred):\n",
    "    return ((y_pred - y)**2).mean()\n",
    "\n",
    "print(f\"Prediction before traningL f(5) = {forward(5).item():.3f}\")"
   ]
  },
  {
   "cell_type": "code",
   "execution_count": 8,
   "id": "0fa31840",
   "metadata": {},
   "outputs": [
    {
     "name": "stdout",
     "output_type": "stream",
     "text": [
      "epoch 1: w = 0.855, loss = 21.67499924\n",
      "epoch 11: w = 1.775, loss = 0.52748799\n",
      "epoch 21: w = 1.956, loss = 0.02044514\n",
      "epoch 31: w = 1.991, loss = 0.00079244\n",
      "epoch 41: w = 1.998, loss = 0.00003072\n",
      "epoch 51: w = 2.000, loss = 0.00000119\n",
      "epoch 61: w = 2.000, loss = 0.00000005\n",
      "epoch 71: w = 2.000, loss = 0.00000000\n",
      "epoch 81: w = 2.000, loss = 0.00000000\n",
      "epoch 91: w = 2.000, loss = 0.00000000\n",
      "Prediction after training: f(5) = 10.000\n"
     ]
    }
   ],
   "source": [
    "# training\n",
    "\n",
    "lr = 0.01\n",
    "n_iters = 100\n",
    "\n",
    "for epoch in range(n_iters):\n",
    "    # predict = forward pass\n",
    "    y_pred = forward(X)\n",
    "    \n",
    "    # loss\n",
    "    l = loss(y, y_pred)\n",
    "    \n",
    "    # calculate gradients = backward pass\n",
    "    l.backward()\n",
    "    \n",
    "    # update weights\n",
    "    # w.data = w.data - lr * w.grad\n",
    "    with torch.no_grad():\n",
    "        w -= lr * w.grad\n",
    "        \n",
    "    # zero the gradients after updating\n",
    "    w.grad.zero_() # remember the underscore\n",
    "    \n",
    "    if epoch % 10 == 0:\n",
    "        print(f\"epoch {epoch + 1}: w = {w.item():.3f}, loss = {l.item():.8f}\")\n",
    "\n",
    "print(f\"Prediction after training: f(5) = {forward(5).item():.3f}\")"
   ]
  },
  {
   "cell_type": "code",
   "execution_count": null,
   "id": "0b8ba27b",
   "metadata": {},
   "outputs": [],
   "source": []
  }
 ],
 "metadata": {
  "kernelspec": {
   "display_name": "Python 3 (ipykernel)",
   "language": "python",
   "name": "python3"
  },
  "language_info": {
   "codemirror_mode": {
    "name": "ipython",
    "version": 3
   },
   "file_extension": ".py",
   "mimetype": "text/x-python",
   "name": "python",
   "nbconvert_exporter": "python",
   "pygments_lexer": "ipython3",
   "version": "3.11.5"
  }
 },
 "nbformat": 4,
 "nbformat_minor": 5
}
