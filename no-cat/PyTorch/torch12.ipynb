{
 "cells": [
  {
   "cell_type": "code",
   "execution_count": 1,
   "id": "5bd669b1",
   "metadata": {},
   "outputs": [],
   "source": [
    "# https://github.com/patrickloeber/pytorchTutorial/blob/master/11_softmax_and_crossentropy.py\n",
    "\n",
    "import numpy as np\n",
    "import torch\n",
    "import torch.nn as nn"
   ]
  },
  {
   "cell_type": "code",
   "execution_count": 2,
   "id": "ba54dd1b",
   "metadata": {},
   "outputs": [],
   "source": [
    "#        -> 2.0              -> 0.65  \n",
    "# Linear -> 1.0  -> Softmax  -> 0.25   -> CrossEntropy(y, y_hat)\n",
    "#        -> 0.1              -> 0.1                   \n",
    "#\n",
    "#     scores(logits)      probabilities\n",
    "#                           sum = 1.0\n",
    "\n",
    "# softmax applies the exponential function to each element, and normalizes\n",
    "# by dividing by the sum of all these exponentials\n",
    "# -> squashes the output to be between 0 and 1 = probability\n",
    "# sum of all probabilities is 1\n",
    "def softmax(x):\n",
    "    # np.exp(x) is e^x, for all elements in x\n",
    "    return np.exp(x) / np.sum(np.exp(x), axis=0)"
   ]
  },
  {
   "cell_type": "code",
   "execution_count": 3,
   "id": "bdae9700",
   "metadata": {},
   "outputs": [
    {
     "data": {
      "text/plain": [
       "'softmax numpy: [0.65900114 0.24243297 0.09856589]'"
      ]
     },
     "execution_count": 3,
     "metadata": {},
     "output_type": "execute_result"
    }
   ],
   "source": [
    "x = np.array([2.0, 1.0, 0.1])\n",
    "outputs = softmax(x)\n",
    "f\"softmax numpy: {outputs}\""
   ]
  },
  {
   "cell_type": "code",
   "execution_count": 4,
   "id": "0ae6de4a",
   "metadata": {},
   "outputs": [
    {
     "data": {
      "text/plain": [
       "'softmax torch: tensor([0.6590, 0.2424, 0.0986])'"
      ]
     },
     "execution_count": 4,
     "metadata": {},
     "output_type": "execute_result"
    }
   ],
   "source": [
    "x = torch.tensor([2.0, 1.0, 0.1])\n",
    "outputs = torch.softmax(x, dim=0) # along with the values along the first axis\n",
    "f\"softmax torch: {outputs}\""
   ]
  },
  {
   "cell_type": "code",
   "execution_count": 5,
   "id": "74c3bb82",
   "metadata": {},
   "outputs": [],
   "source": [
    "# cross-entropy loss, or log loss, measures the performance of a classification\n",
    "# model whose output is a probability value between 0 and 1\n",
    "# -> loss increases as the predicted probability diverges from the actual label\n",
    "def cross_entropy(actual, predicted):\n",
    "    EPS = 1e-15\n",
    "    # limit  predicted between 0.000000000000001 and 1 - 0.000000000000001\n",
    "    predicted = np.clip(predicted, EPS, 1 - EPS)\n",
    "    loss = -np.sum(actual * np.log(predicted))\n",
    "    # we can normalize it if we want (this is 1/N part of the formula, with\n",
    "    # N being commented out)\n",
    "    return loss # / float(predicted.shape[0])"
   ]
  },
  {
   "cell_type": "code",
   "execution_count": 6,
   "id": "8b46993f",
   "metadata": {},
   "outputs": [
    {
     "name": "stdout",
     "output_type": "stream",
     "text": [
      "loss1 numpy: 0.3567\n",
      "loss2 numpy: 2.3026\n"
     ]
    }
   ],
   "source": [
    "# y must be one hot encoded\n",
    "# one-hot encoded: representation of categorical variables as binary vectors\n",
    "# (as shown below)\n",
    "# if class 0: [1 0 0]\n",
    "# if class 1: [0 1 0]\n",
    "# if class 2: [0 0 1]\n",
    "Y = np.array([1, 0, 0])\n",
    "Y_pred_good = np.array([0.7, 0.2, 0.1])\n",
    "Y_pred_bad = np.array([0.1, 0.3, 0.6])\n",
    "l1 = cross_entropy(Y, Y_pred_good)\n",
    "l2 = cross_entropy(Y, Y_pred_bad)\n",
    "print(f\"loss1 numpy: {l1:.4f}\\nloss2 numpy: {l2:.4f}\")"
   ]
  },
  {
   "cell_type": "code",
   "execution_count": 7,
   "id": "ef122466",
   "metadata": {},
   "outputs": [
    {
     "name": "stdout",
     "output_type": "stream",
     "text": [
      "loss1 torch: 0.4170\n",
      "loss2 torch: 1.8406\n"
     ]
    }
   ],
   "source": [
    "# CrossEntropyLoss in PyTorch (applies Softmax)\n",
    "# nn.LogSoftmax + nn.NLLLoss\n",
    "# NLLLoss = negative log likelihood loss\n",
    "loss = nn.CrossEntropyLoss()\n",
    "# loss(input, target)\n",
    "\n",
    "# target is of size n_samples = 1\n",
    "# each element has class label: 0, 1, or 2\n",
    "# Y (=target) contains class labels, not one-hot\n",
    "Y = torch.tensor([0])\n",
    "\n",
    "# input is of size n_samples * n_classes = 1 * 3\n",
    "# y_pred (=input) must be raw, unnormalizes scores (logits) for each class, not softmax\n",
    "Y_pred_good = torch.tensor([[2.0, 1.0, 0.1]])\n",
    "Y_pred_bad = torch.tensor([[0.5, 2.0, 0.3]])\n",
    "l1 = loss(Y_pred_good, Y)\n",
    "l2 = loss(Y_pred_bad, Y)\n",
    "print(f\"loss1 torch: {l1:.4f}\\nloss2 torch: {l2:.4f}\")"
   ]
  },
  {
   "cell_type": "code",
   "execution_count": 8,
   "id": "30435668",
   "metadata": {},
   "outputs": [
    {
     "name": "stdout",
     "output_type": "stream",
     "text": [
      "actual class: 0, Y_pred1: 0, Y_pred2: 1\n"
     ]
    }
   ],
   "source": [
    "# get predictions\n",
    "_, predictions1 = torch.max(Y_pred_good, 1)\n",
    "_, predictions2 = torch.max(Y_pred_bad, 1)\n",
    "print(f\"actual class: {Y.item()}, Y_pred1: {predictions1.item()}, Y_pred2: {predictions2.item()}\")"
   ]
  },
  {
   "cell_type": "code",
   "execution_count": 9,
   "id": "8a3a8da6",
   "metadata": {},
   "outputs": [
    {
     "name": "stdout",
     "output_type": "stream",
     "text": [
      "batch loss1: 0.2834\n",
      "batch loss2: 1.6418\n"
     ]
    }
   ],
   "source": [
    "# allows batch loss for multiple samples\n",
    "\n",
    "# target is of size nBatch = 3\n",
    "# each element has class label: 0, 1, or 2\n",
    "Y = torch.tensor([2, 0, 1])\n",
    "\n",
    "# input is of size nBatch x nClasses = 3 x 3\n",
    "# Y_pred are logits (not softmax)\n",
    "Y_pred_good = torch.tensor(\n",
    "    [[0.1, 0.2, 3.9], # predict class 2\n",
    "    [1.2, 0.1, 0.3],  # predict class 0\n",
    "    [0.3, 2.2, 0.2]]) # predict class 1\n",
    "\n",
    "Y_pred_bad = torch.tensor(\n",
    "    [[0.9, 0.2, 0.1],\n",
    "    [0.1, 0.3, 1.5],\n",
    "    [1.2, 0.2, 0.5]])\n",
    "\n",
    "l1 = loss(Y_pred_good, Y)\n",
    "l2 = loss(Y_pred_bad, Y)\n",
    "print(f\"batch loss1: {l1.item():.4f}\\nbatch loss2: {l2.item():.4f}\")"
   ]
  },
  {
   "cell_type": "code",
   "execution_count": 10,
   "id": "ba0bc33d",
   "metadata": {},
   "outputs": [
    {
     "name": "stdout",
     "output_type": "stream",
     "text": [
      "actual class: tensor([2, 0, 1])\n",
      "Y_pred1: tensor([2, 0, 1])\n",
      "Y_pred2: tensor([0, 2, 0])\n"
     ]
    }
   ],
   "source": [
    "# get predictions\n",
    "_, predictions1 = torch.max(Y_pred_good, 1)\n",
    "_, predictions2 = torch.max(Y_pred_bad, 1)\n",
    "print(f\"actual class: {Y}\\nY_pred1: {predictions1}\\nY_pred2: {predictions2}\")"
   ]
  },
  {
   "cell_type": "code",
   "execution_count": 11,
   "id": "6e597e2d",
   "metadata": {},
   "outputs": [],
   "source": [
    "# binary classification\n",
    "class NeuralNet1(nn.Module):\n",
    "    def __init__(self, input_size, hidden_size):\n",
    "        super(NeuralNet1, self).__init__()\n",
    "        self.linear1 = nn.Linear(input_size, hidden_size)\n",
    "        self.relu = nn.ReLU()\n",
    "        # since we're dealing with a yes/no question here (binary),\n",
    "        # the output size is set to 1\n",
    "        self.linear2 = nn.Linear(hidden_size, 1)\n",
    "        \n",
    "    def forward(self, x):\n",
    "        out = self.linear1(x)\n",
    "        out = self.relu(out)\n",
    "        out = self.linear2(out)\n",
    "        # sigmoid at the end\n",
    "        y_pred = torch.sigmoid(out)\n",
    "        return y_pred\n",
    "\n",
    "model = NeuralNet1(input_size=28*28, hidden_size=5)\n",
    "criterion = nn.BCELoss()"
   ]
  },
  {
   "cell_type": "code",
   "execution_count": 12,
   "id": "10b14025",
   "metadata": {},
   "outputs": [],
   "source": [
    "# multiclass problem\n",
    "class NeuralNet2(nn.Module):\n",
    "    def __init__(self, input_size, hidden_size, num_classes):\n",
    "        super(NeuralNet2, self).__init__()\n",
    "        self.linear1 = nn.Linear(input_size, hidden_size)\n",
    "        self.relu = nn.ReLU()\n",
    "        # since there may be multiple answers for a question, the \n",
    "        # number of outputs is the same as the number of classes\n",
    "        self.linear2 = nn.Linear(hidden_size, num_classes)\n",
    "        \n",
    "    def forward(self, x):\n",
    "        out = self.linear1(x)\n",
    "        out = self.relu(out)\n",
    "        out = self.linear2(out)\n",
    "        # no softmax at the end\n",
    "        return out\n",
    "\n",
    "model = NeuralNet2(input_size=28*28, hidden_size=5, num_classes=1)\n",
    "criterion = nn.CrossEntropyLoss() # (applies softmax)"
   ]
  },
  {
   "cell_type": "markdown",
   "id": "a3bc948f",
   "metadata": {},
   "source": [
    "# some guide\n",
    "## __init__()\n",
    "1. calls super(Class, self).__init__()\n",
    "2. you declare the layers here, but don't do any kind of computation\n",
    "## forward()\n",
    "1. this is the part where you do the computations\n",
    "2. you know, when you stack the outputs of another layer into another"
   ]
  },
  {
   "cell_type": "code",
   "execution_count": null,
   "id": "7c575894",
   "metadata": {},
   "outputs": [],
   "source": []
  }
 ],
 "metadata": {
  "kernelspec": {
   "display_name": "Python 3 (ipykernel)",
   "language": "python",
   "name": "python3"
  },
  "language_info": {
   "codemirror_mode": {
    "name": "ipython",
    "version": 3
   },
   "file_extension": ".py",
   "mimetype": "text/x-python",
   "name": "python",
   "nbconvert_exporter": "python",
   "pygments_lexer": "ipython3",
   "version": "3.11.5"
  }
 },
 "nbformat": 4,
 "nbformat_minor": 5
}
